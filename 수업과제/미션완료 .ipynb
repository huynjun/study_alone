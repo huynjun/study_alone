{
 "cells": [
  {
   "cell_type": "markdown",
   "id": "cac9b960",
   "metadata": {},
   "source": [
    "### 과제연습\n",
    "- 전체 행이 NaN 인 데이터 삭제\n",
    "- 2015년~2018년까지 데이터 합계를 계산 이후 2014년을 뺀 데이터를 '2014년이전' 필드에 저장\n",
    "- 2011~2014년 열 삭제\n",
    "- 조건 2018년 데이터가 500미만 인 데이터 행 삭제 연습"
   ]
  },
  {
   "cell_type": "code",
   "execution_count": 2,
   "id": "0207d1d4",
   "metadata": {},
   "outputs": [
    {
     "data": {
      "text/html": [
       "<div>\n",
       "<style scoped>\n",
       "    .dataframe tbody tr th:only-of-type {\n",
       "        vertical-align: middle;\n",
       "    }\n",
       "\n",
       "    .dataframe tbody tr th {\n",
       "        vertical-align: top;\n",
       "    }\n",
       "\n",
       "    .dataframe thead th {\n",
       "        text-align: right;\n",
       "    }\n",
       "</style>\n",
       "<table border=\"1\" class=\"dataframe\">\n",
       "  <thead>\n",
       "    <tr style=\"text-align: right;\">\n",
       "      <th></th>\n",
       "      <th>기관명</th>\n",
       "      <th>소계</th>\n",
       "      <th>2015년</th>\n",
       "      <th>2016년</th>\n",
       "      <th>2017년</th>\n",
       "      <th>2018년</th>\n",
       "      <th>2014년이전</th>\n",
       "    </tr>\n",
       "  </thead>\n",
       "  <tbody>\n",
       "    <tr>\n",
       "      <th>4</th>\n",
       "      <td>관 악 구</td>\n",
       "      <td>3,985</td>\n",
       "      <td>609.0</td>\n",
       "      <td>619.0</td>\n",
       "      <td>694.0</td>\n",
       "      <td>671.0</td>\n",
       "      <td>2106.0</td>\n",
       "    </tr>\n",
       "    <tr>\n",
       "      <th>7</th>\n",
       "      <td>금 천 구</td>\n",
       "      <td>1,634</td>\n",
       "      <td>382.0</td>\n",
       "      <td>136.0</td>\n",
       "      <td>199.0</td>\n",
       "      <td>530.0</td>\n",
       "      <td>1146.0</td>\n",
       "    </tr>\n",
       "    <tr>\n",
       "      <th>16</th>\n",
       "      <td>성 북 구</td>\n",
       "      <td>3,003</td>\n",
       "      <td>279.0</td>\n",
       "      <td>388.0</td>\n",
       "      <td>285.0</td>\n",
       "      <td>643.0</td>\n",
       "      <td>1354.0</td>\n",
       "    </tr>\n",
       "    <tr>\n",
       "      <th>18</th>\n",
       "      <td>양 천 구</td>\n",
       "      <td>2,775</td>\n",
       "      <td>172.0</td>\n",
       "      <td>349.0</td>\n",
       "      <td>137.0</td>\n",
       "      <td>830.0</td>\n",
       "      <td>1319.0</td>\n",
       "    </tr>\n",
       "    <tr>\n",
       "      <th>19</th>\n",
       "      <td>영등포구</td>\n",
       "      <td>2,495</td>\n",
       "      <td>366.0</td>\n",
       "      <td>289.0</td>\n",
       "      <td>371.0</td>\n",
       "      <td>793.0</td>\n",
       "      <td>1602.0</td>\n",
       "    </tr>\n",
       "  </tbody>\n",
       "</table>\n",
       "</div>"
      ],
      "text/plain": [
       "      기관명     소계  2015년  2016년  2017년  2018년  2014년이전\n",
       "4   관 악 구  3,985  609.0  619.0  694.0  671.0   2106.0\n",
       "7   금 천 구  1,634  382.0  136.0  199.0  530.0   1146.0\n",
       "16  성 북 구  3,003  279.0  388.0  285.0  643.0   1354.0\n",
       "18  양 천 구  2,775  172.0  349.0  137.0  830.0   1319.0\n",
       "19   영등포구  2,495  366.0  289.0  371.0  793.0   1602.0"
      ]
     },
     "metadata": {},
     "output_type": "display_data"
    }
   ],
   "source": [
    "import pandas as pd\n",
    "df=pd.read_csv('./data/서울시 CCTV 설치 현황.csv', encoding='cp949')\n",
    "df.dropna(thresh=4)\n",
    "df=df.dropna(thresh=4)\n",
    "r=[]\n",
    "for i in df['2014년']:\n",
    "    if \",\" in i:\n",
    "        i=i.replace(\",\" , \"\")\n",
    "        r.append(float(i))\n",
    "    else:\n",
    "        r.append(float(i))\n",
    "df['2014년']=r\n",
    "df['2014년이전']=df['2015년']+df['2016년']+df['2017년']+df['2018년']-df['2014년']\n",
    "df.drop(['2011년 이전','2012년','2013년','2014년'], axis=1, inplace=True)\n",
    "df=df.drop(df[df['2018년']<500].index)\n",
    "\n",
    "\n",
    "\n",
    "\n",
    "display(df)\n",
    "\n",
    "\n",
    "\n",
    "\n",
    "\n"
   ]
  },
  {
   "cell_type": "code",
   "execution_count": null,
   "id": "c37bc9d8",
   "metadata": {},
   "outputs": [],
   "source": []
  },
  {
   "cell_type": "code",
   "execution_count": null,
   "id": "1f4a1c3f",
   "metadata": {},
   "outputs": [],
   "source": []
  },
  {
   "cell_type": "code",
   "execution_count": null,
   "id": "0d1cecf3",
   "metadata": {},
   "outputs": [],
   "source": []
  },
  {
   "cell_type": "code",
   "execution_count": null,
   "id": "09d981dd",
   "metadata": {},
   "outputs": [],
   "source": []
  },
  {
   "cell_type": "code",
   "execution_count": null,
   "id": "567ba017",
   "metadata": {},
   "outputs": [],
   "source": []
  },
  {
   "cell_type": "code",
   "execution_count": null,
   "id": "ddd86b64",
   "metadata": {},
   "outputs": [],
   "source": []
  }
 ],
 "metadata": {
  "kernelspec": {
   "display_name": "Python 3",
   "language": "python",
   "name": "python3"
  },
  "language_info": {
   "codemirror_mode": {
    "name": "ipython",
    "version": 3
   },
   "file_extension": ".py",
   "mimetype": "text/x-python",
   "name": "python",
   "nbconvert_exporter": "python",
   "pygments_lexer": "ipython3",
   "version": "3.9.5"
  }
 },
 "nbformat": 4,
 "nbformat_minor": 5
}
